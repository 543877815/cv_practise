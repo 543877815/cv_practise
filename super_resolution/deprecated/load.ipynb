{
 "cells": [
  {
   "cell_type": "code",
   "execution_count": 1,
   "metadata": {},
   "outputs": [],
   "source": [
    "import h5py"
   ]
  },
  {
   "cell_type": "code",
   "execution_count": 2,
   "metadata": {},
   "outputs": [],
   "source": [
    "h5 = h5py.File(\"D:\\jupyter\\pytorch-LapSRN\\data\\lapsrn_train.h5\", 'r')"
   ]
  },
  {
   "cell_type": "code",
   "execution_count": 7,
   "metadata": {},
   "outputs": [
    {
     "data": {
      "text/plain": [
       "<HDF5 dataset \"label_x4\": shape (89856, 1, 64, 64), type \"<f4\">"
      ]
     },
     "execution_count": 7,
     "metadata": {},
     "output_type": "execute_result"
    }
   ],
   "source": [
    "h5.get('label_x4')"
   ]
  },
  {
   "cell_type": "code",
   "execution_count": 4,
   "metadata": {},
   "outputs": [
    {
     "data": {
      "text/plain": [
       "<HDF5 dataset \"label_x2\": shape (89856, 1, 64, 64), type \"<f4\">"
      ]
     },
     "execution_count": 4,
     "metadata": {},
     "output_type": "execute_result"
    }
   ],
   "source": [
    "h5.get('label_x2')"
   ]
  },
  {
   "cell_type": "code",
   "execution_count": 5,
   "metadata": {},
   "outputs": [
    {
     "data": {
      "text/plain": [
       "<HDF5 dataset \"data\": shape (89856, 1, 32, 32), type \"<f4\">"
      ]
     },
     "execution_count": 5,
     "metadata": {},
     "output_type": "execute_result"
    }
   ],
   "source": [
    "h5.get('data')"
   ]
  },
  {
   "cell_type": "code",
   "execution_count": 1,
   "metadata": {},
   "outputs": [],
   "source": [
    "from visdom import Visdom\n",
    "import scipy.io as io\n",
    "import torch\n",
    "from torch.autograd import Variable\n",
    "from PIL import Image\n",
    "import numpy as np\n",
    "import time, math\n",
    "import matplotlib.pyplot as plt\n",
    "import platform\n",
    "import os\n",
    "from models.SRCNN.model import SRCNN\n",
    "from models.FSRCNN.model import FSRCNN\n",
    "from models.VDSR.model import VDSR\n",
    "from models.ESPCN.model import ESPCN\n",
    "from models.DRRN.model import DRRN\n",
    "from models.ESPCN.model import ESPCN\n",
    "from models.DRCN.model import DRCN\n",
    "import cv2"
   ]
  },
  {
   "cell_type": "code",
   "execution_count": 2,
   "metadata": {},
   "outputs": [],
   "source": [
    "pred = io.loadmat('D:\\jupyter\\DRCN_code\\DRCN model\\sf2\\DRCN_sf2.mat')  "
   ]
  },
  {
   "cell_type": "code",
   "execution_count": 3,
   "metadata": {},
   "outputs": [],
   "source": [
    "params = pred['net']['params'][0][0][0]"
   ]
  },
  {
   "cell_type": "code",
   "execution_count": 4,
   "metadata": {},
   "outputs": [
    {
     "data": {
      "text/plain": [
       "(3, 3, 1, 256)"
      ]
     },
     "execution_count": 4,
     "metadata": {},
     "output_type": "execute_result"
    }
   ],
   "source": [
    "params[0][1].shape"
   ]
  },
  {
   "cell_type": "code",
   "execution_count": 5,
   "metadata": {},
   "outputs": [],
   "source": [
    "filter1_weight = params[0][1].transpose(3,2,1,0)\n",
    "filter1_bias = params[1][1].squeeze(1)\n",
    "filter2_weight = params[2][1].transpose(3,2,1,0)\n",
    "filter2_bias = params[3][1].squeeze(1)\n",
    "filter19_weight = params[4][1].transpose(3,2,1,0)\n",
    "filter19_bias = params[5][1].squeeze(1)\n",
    "\n",
    "filter20_weight = params[6][1].transpose(2,1,0)\n",
    "filter20_bias = params[7][1].squeeze(1)\n",
    "filter_share_weight = params[8][1].transpose(3,2,1,0)\n",
    "filter_share_data = params[9][1].squeeze(1)\n",
    "\n",
    "ensemble_weight = params[10][1].transpose(2,1,0)"
   ]
  },
  {
   "cell_type": "code",
   "execution_count": 6,
   "metadata": {},
   "outputs": [
    {
     "name": "stdout",
     "output_type": "stream",
     "text": [
      "CUDA Available:  True\n"
     ]
    }
   ],
   "source": [
    "# detect device\n",
    "use_cuda = True\n",
    "print(\"CUDA Available: \", torch.cuda.is_available())\n",
    "# device = torch.device(\"cuda\" if (use_cuda and torch.cuda.is_available()) else \"cpu\")\n",
    "device = \"cpu\""
   ]
  },
  {
   "cell_type": "code",
   "execution_count": 7,
   "metadata": {},
   "outputs": [
    {
     "data": {
      "text/plain": [
       "DRCN(\n",
       "  (fea_in_conv1): Conv2d(1, 256, kernel_size=(3, 3), stride=(1, 1), padding=(1, 1))\n",
       "  (fea_in_conv2): Conv2d(256, 256, kernel_size=(3, 3), stride=(1, 1), padding=(1, 1))\n",
       "  (recursive_conv): Conv2d(256, 256, kernel_size=(3, 3), stride=(1, 1), padding=(1, 1))\n",
       "  (reconstruct_conv1): Conv2d(256, 256, kernel_size=(3, 3), stride=(1, 1), padding=(1, 1))\n",
       "  (reconstruct_conv2): Conv2d(256, 1, kernel_size=(3, 3), stride=(1, 1), padding=(1, 1))\n",
       "  (ensemble): Conv2d(17, 1, kernel_size=(1, 1), stride=(1, 1), bias=False)\n",
       "  (dropout): Dropout(p=0.2, inplace=False)\n",
       "  (relu): ReLU(inplace=True)\n",
       ")"
      ]
     },
     "execution_count": 7,
     "metadata": {},
     "output_type": "execute_result"
    }
   ],
   "source": [
    "model = DRCN(img_channels=1, num_recursions=16)\n",
    "model"
   ]
  },
  {
   "cell_type": "code",
   "execution_count": 8,
   "metadata": {},
   "outputs": [
    {
     "name": "stdout",
     "output_type": "stream",
     "text": [
      "-->name: fea_in_conv1.weight -->grad_requires: True  -->grad_value: None\n",
      "-->name: fea_in_conv1.bias -->grad_requires: True  -->grad_value: None\n",
      "-->name: fea_in_conv2.weight -->grad_requires: True  -->grad_value: None\n",
      "-->name: fea_in_conv2.bias -->grad_requires: True  -->grad_value: None\n",
      "-->name: recursive_conv.weight -->grad_requires: True  -->grad_value: None\n",
      "-->name: recursive_conv.bias -->grad_requires: True  -->grad_value: None\n",
      "-->name: reconstruct_conv1.weight -->grad_requires: True  -->grad_value: None\n",
      "-->name: reconstruct_conv1.bias -->grad_requires: True  -->grad_value: None\n",
      "-->name: reconstruct_conv2.weight -->grad_requires: True  -->grad_value: None\n",
      "-->name: reconstruct_conv2.bias -->grad_requires: True  -->grad_value: None\n",
      "-->name: ensemble.weight -->grad_requires: True  -->grad_value: None\n"
     ]
    }
   ],
   "source": [
    "for name, parms in model.named_parameters():\n",
    "    print('-->name:', name, '-->grad_requires:', parms.requires_grad, ' -->grad_value:', parms.grad)"
   ]
  },
  {
   "cell_type": "code",
   "execution_count": 9,
   "metadata": {},
   "outputs": [
    {
     "data": {
      "text/plain": [
       "array([[[-0.03156392]],\n",
       "\n",
       "       [[ 0.08646547]],\n",
       "\n",
       "       [[ 0.3825569 ]],\n",
       "\n",
       "       [[-0.00126755]],\n",
       "\n",
       "       [[-0.07290084]],\n",
       "\n",
       "       [[ 0.23602751]],\n",
       "\n",
       "       [[ 0.30233803]],\n",
       "\n",
       "       [[ 0.05404749]],\n",
       "\n",
       "       [[ 0.3018273 ]],\n",
       "\n",
       "       [[-0.07793459]],\n",
       "\n",
       "       [[ 0.3640599 ]],\n",
       "\n",
       "       [[-0.42109546]],\n",
       "\n",
       "       [[ 0.2806825 ]],\n",
       "\n",
       "       [[-0.24244851]],\n",
       "\n",
       "       [[ 0.06587348]],\n",
       "\n",
       "       [[-0.11815578]],\n",
       "\n",
       "       [[ 0.54195195]]], dtype=float32)"
      ]
     },
     "execution_count": 9,
     "metadata": {},
     "output_type": "execute_result"
    }
   ],
   "source": [
    "ensemble_weight"
   ]
  },
  {
   "cell_type": "code",
   "execution_count": 10,
   "metadata": {
    "scrolled": true
   },
   "outputs": [
    {
     "data": {
      "text/plain": [
       "tensor([[[[-0.0316]],\n",
       "\n",
       "         [[ 0.0865]],\n",
       "\n",
       "         [[ 0.3826]],\n",
       "\n",
       "         [[-0.0013]],\n",
       "\n",
       "         [[-0.0729]],\n",
       "\n",
       "         [[ 0.2360]],\n",
       "\n",
       "         [[ 0.3023]],\n",
       "\n",
       "         [[ 0.0540]],\n",
       "\n",
       "         [[ 0.3018]],\n",
       "\n",
       "         [[-0.0779]],\n",
       "\n",
       "         [[ 0.3641]],\n",
       "\n",
       "         [[-0.4211]],\n",
       "\n",
       "         [[ 0.2807]],\n",
       "\n",
       "         [[-0.2424]],\n",
       "\n",
       "         [[ 0.0659]],\n",
       "\n",
       "         [[-0.1182]],\n",
       "\n",
       "         [[ 0.5420]]]])"
      ]
     },
     "execution_count": 10,
     "metadata": {},
     "output_type": "execute_result"
    }
   ],
   "source": [
    "model.fea_in_conv1.weight.data.copy_(torch.from_numpy(filter1_weight))\n",
    "model.fea_in_conv1.bias.data.copy_(torch.from_numpy(filter1_bias))\n",
    "model.fea_in_conv2.weight.data.copy_(torch.from_numpy(filter2_weight))\n",
    "model.fea_in_conv2.bias.data.copy_(torch.from_numpy(filter2_bias))\n",
    "model.reconstruct_conv1.weight.data.copy_(torch.from_numpy(filter19_weight))\n",
    "model.reconstruct_conv1.bias.data.copy_(torch.from_numpy(filter19_bias))\n",
    "model.reconstruct_conv2.weight.data.copy_(torch.from_numpy(filter20_weight).unsqueeze(0))\n",
    "model.reconstruct_conv2.bias.data.copy_(torch.from_numpy(filter20_bias))\n",
    "model.recursive_conv.weight.data.copy_(torch.from_numpy(filter_share_weight))\n",
    "model.recursive_conv.bias.data.copy_(torch.from_numpy(filter_share_data))\n",
    "model.ensemble.weight.data.copy_(torch.from_numpy(ensemble_weight).unsqueeze(0))"
   ]
  },
  {
   "cell_type": "code",
   "execution_count": 11,
   "metadata": {},
   "outputs": [],
   "source": [
    "state = {\n",
    "    'net': model.state_dict(),\n",
    "    'psnr': 0,\n",
    "    'epoch': 0\n",
    "}\n",
    "torch.save(state, \"F:\\\\cache\\\\checkpoint\\\\DRCN_pretrain.pth\")"
   ]
  },
  {
   "cell_type": "code",
   "execution_count": null,
   "metadata": {},
   "outputs": [],
   "source": []
  },
  {
   "cell_type": "code",
   "execution_count": null,
   "metadata": {},
   "outputs": [],
   "source": []
  }
 ],
 "metadata": {
  "kernelspec": {
   "display_name": "Python 3",
   "language": "python",
   "name": "python3"
  },
  "language_info": {
   "codemirror_mode": {
    "name": "ipython",
    "version": 3
   },
   "file_extension": ".py",
   "mimetype": "text/x-python",
   "name": "python",
   "nbconvert_exporter": "python",
   "pygments_lexer": "ipython3",
   "version": "3.8.3"
  }
 },
 "nbformat": 4,
 "nbformat_minor": 4
}
